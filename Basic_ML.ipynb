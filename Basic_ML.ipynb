{
  "nbformat": 4,
  "nbformat_minor": 0,
  "metadata": {
    "colab": {
      "name": "Basic ML",
      "provenance": [],
      "collapsed_sections": []
    },
    "kernelspec": {
      "name": "python3",
      "display_name": "Python 3"
    },
    "language_info": {
      "name": "python"
    }
  },
  "cells": [
    {
      "cell_type": "markdown",
      "metadata": {
        "id": "aFp9xvw3Opwt"
      },
      "source": [
        "python program to get square of a number"
      ]
    },
    {
      "cell_type": "code",
      "metadata": {
        "colab": {
          "base_uri": "https://localhost:8080/"
        },
        "id": "jD4GOb0kOjvm",
        "outputId": "97c65265-2aaa-4e51-e99b-02d1338a7c8e"
      },
      "source": [
        "a = 5\n",
        "b = a**2\n",
        "print(b)"
      ],
      "execution_count": 2,
      "outputs": [
        {
          "output_type": "stream",
          "text": [
            "25\n"
          ],
          "name": "stdout"
        }
      ]
    },
    {
      "cell_type": "markdown",
      "metadata": {
        "id": "w6OC8bYCPLLF"
      },
      "source": [
        "python program to get the sum of the digits of a number"
      ]
    },
    {
      "cell_type": "code",
      "metadata": {
        "colab": {
          "base_uri": "https://localhost:8080/"
        },
        "id": "qlOD0sF3Qt4u",
        "outputId": "da244b16-f7c9-467a-8dc5-db1cfd242e74"
      },
      "source": [
        "a = 1245\n",
        "b = a%10\n",
        "c = (a//10)%10\n",
        "d = (a//100)%10\n",
        "e = a//1000\n",
        "x = b+c+d+e\n",
        "print(x)\n"
      ],
      "execution_count": 3,
      "outputs": [
        {
          "output_type": "stream",
          "text": [
            "12\n"
          ],
          "name": "stdout"
        }
      ]
    },
    {
      "cell_type": "markdown",
      "metadata": {
        "id": "xlhj6D4xRvRs"
      },
      "source": [
        "python program to check whether a number is prime number or not"
      ]
    },
    {
      "cell_type": "code",
      "metadata": {
        "colab": {
          "base_uri": "https://localhost:8080/"
        },
        "id": "q3rG4Zj6SUbv",
        "outputId": "103873d1-5a11-413d-be6c-e05367b51055"
      },
      "source": [
        "a = 191\n",
        "if a>1:\n",
        "   for i in range(2, a):\n",
        "       if(a%i==0):\n",
        "           print(a, \"is not a prime number\")\n",
        "           break\n",
        "   else:\n",
        "           print(a, \"is a prime number\")\n",
        "else:\n",
        "   print(a, \"is not a prime number\")"
      ],
      "execution_count": 7,
      "outputs": [
        {
          "output_type": "stream",
          "text": [
            "191 is a prime number\n"
          ],
          "name": "stdout"
        }
      ]
    }
  ]
}